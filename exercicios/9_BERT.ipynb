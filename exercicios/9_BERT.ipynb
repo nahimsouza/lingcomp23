{
  "cells": [
    {
      "cell_type": "markdown",
      "metadata": {
        "id": "QiExJR5C6xlF"
      },
      "source": [
        "# Lista 9 - BERT\n",
        "\n",
        "Nessa lista exploraremos como usar o HuggingFace para aplicar modelos baseados em transformers. O HuggingFace é (também) um conjunto de bibliotecas para Python que abstrai o treinamento, ajuste fino e utilização de modelos baseados em transformers, como o BERT. Como complemento aos slides das aulas, use o próprio [curso/livro texto do HuggingFace](https://huggingface.co/learn/nlp-course/chapter1/1), disponível gratuitamente, e a documentação das funções, para a resolução desta lista.\n",
        "\n",
        "Vamos começar instalando as bibliotecas do ecosistema da HuggingFace que serão necessários e importando os itens necessários (Na dúvida sobre o que usar, dê uma olhada no que está sendo importado)."
      ]
    },
    {
      "cell_type": "code",
      "execution_count": 29,
      "metadata": {
        "id": "wRPjobAT3_Ok",
        "colab": {
          "base_uri": "https://localhost:8080/",
          "height": 0
        },
        "outputId": "b9eb55fc-de7d-4131-c1e0-3687d321ce4a"
      },
      "outputs": [
        {
          "output_type": "stream",
          "name": "stdout",
          "text": [
            "Requirement already satisfied: transformers[torch] in /usr/local/lib/python3.10/dist-packages (4.34.1)\n",
            "Requirement already satisfied: tokenizers in /usr/local/lib/python3.10/dist-packages (0.14.1)\n",
            "Requirement already satisfied: datasets in /usr/local/lib/python3.10/dist-packages (2.14.6)\n",
            "Requirement already satisfied: filelock in /usr/local/lib/python3.10/dist-packages (from transformers[torch]) (3.12.4)\n",
            "Requirement already satisfied: huggingface-hub<1.0,>=0.16.4 in /usr/local/lib/python3.10/dist-packages (from transformers[torch]) (0.17.3)\n",
            "Requirement already satisfied: numpy>=1.17 in /usr/local/lib/python3.10/dist-packages (from transformers[torch]) (1.23.5)\n",
            "Requirement already satisfied: packaging>=20.0 in /usr/local/lib/python3.10/dist-packages (from transformers[torch]) (23.2)\n",
            "Requirement already satisfied: pyyaml>=5.1 in /usr/local/lib/python3.10/dist-packages (from transformers[torch]) (6.0.1)\n",
            "Requirement already satisfied: regex!=2019.12.17 in /usr/local/lib/python3.10/dist-packages (from transformers[torch]) (2023.6.3)\n",
            "Requirement already satisfied: requests in /usr/local/lib/python3.10/dist-packages (from transformers[torch]) (2.31.0)\n",
            "Requirement already satisfied: safetensors>=0.3.1 in /usr/local/lib/python3.10/dist-packages (from transformers[torch]) (0.4.0)\n",
            "Requirement already satisfied: tqdm>=4.27 in /usr/local/lib/python3.10/dist-packages (from transformers[torch]) (4.66.1)\n",
            "Requirement already satisfied: torch!=1.12.0,>=1.10 in /usr/local/lib/python3.10/dist-packages (from transformers[torch]) (2.1.0+cu118)\n",
            "Requirement already satisfied: accelerate>=0.20.3 in /usr/local/lib/python3.10/dist-packages (from transformers[torch]) (0.24.1)\n",
            "Requirement already satisfied: pyarrow>=8.0.0 in /usr/local/lib/python3.10/dist-packages (from datasets) (9.0.0)\n",
            "Requirement already satisfied: dill<0.3.8,>=0.3.0 in /usr/local/lib/python3.10/dist-packages (from datasets) (0.3.7)\n",
            "Requirement already satisfied: pandas in /usr/local/lib/python3.10/dist-packages (from datasets) (1.5.3)\n",
            "Requirement already satisfied: xxhash in /usr/local/lib/python3.10/dist-packages (from datasets) (3.4.1)\n",
            "Requirement already satisfied: multiprocess in /usr/local/lib/python3.10/dist-packages (from datasets) (0.70.15)\n",
            "Requirement already satisfied: fsspec[http]<=2023.10.0,>=2023.1.0 in /usr/local/lib/python3.10/dist-packages (from datasets) (2023.6.0)\n",
            "Requirement already satisfied: aiohttp in /usr/local/lib/python3.10/dist-packages (from datasets) (3.8.6)\n",
            "Requirement already satisfied: psutil in /usr/local/lib/python3.10/dist-packages (from accelerate>=0.20.3->transformers[torch]) (5.9.5)\n",
            "Requirement already satisfied: attrs>=17.3.0 in /usr/local/lib/python3.10/dist-packages (from aiohttp->datasets) (23.1.0)\n",
            "Requirement already satisfied: charset-normalizer<4.0,>=2.0 in /usr/local/lib/python3.10/dist-packages (from aiohttp->datasets) (3.3.1)\n",
            "Requirement already satisfied: multidict<7.0,>=4.5 in /usr/local/lib/python3.10/dist-packages (from aiohttp->datasets) (6.0.4)\n",
            "Requirement already satisfied: async-timeout<5.0,>=4.0.0a3 in /usr/local/lib/python3.10/dist-packages (from aiohttp->datasets) (4.0.3)\n",
            "Requirement already satisfied: yarl<2.0,>=1.0 in /usr/local/lib/python3.10/dist-packages (from aiohttp->datasets) (1.9.2)\n",
            "Requirement already satisfied: frozenlist>=1.1.1 in /usr/local/lib/python3.10/dist-packages (from aiohttp->datasets) (1.4.0)\n",
            "Requirement already satisfied: aiosignal>=1.1.2 in /usr/local/lib/python3.10/dist-packages (from aiohttp->datasets) (1.3.1)\n",
            "Requirement already satisfied: typing-extensions>=3.7.4.3 in /usr/local/lib/python3.10/dist-packages (from huggingface-hub<1.0,>=0.16.4->transformers[torch]) (4.5.0)\n",
            "Requirement already satisfied: idna<4,>=2.5 in /usr/local/lib/python3.10/dist-packages (from requests->transformers[torch]) (3.4)\n",
            "Requirement already satisfied: urllib3<3,>=1.21.1 in /usr/local/lib/python3.10/dist-packages (from requests->transformers[torch]) (2.0.7)\n",
            "Requirement already satisfied: certifi>=2017.4.17 in /usr/local/lib/python3.10/dist-packages (from requests->transformers[torch]) (2023.7.22)\n",
            "Requirement already satisfied: sympy in /usr/local/lib/python3.10/dist-packages (from torch!=1.12.0,>=1.10->transformers[torch]) (1.12)\n",
            "Requirement already satisfied: networkx in /usr/local/lib/python3.10/dist-packages (from torch!=1.12.0,>=1.10->transformers[torch]) (3.2)\n",
            "Requirement already satisfied: jinja2 in /usr/local/lib/python3.10/dist-packages (from torch!=1.12.0,>=1.10->transformers[torch]) (3.1.2)\n",
            "Requirement already satisfied: triton==2.1.0 in /usr/local/lib/python3.10/dist-packages (from torch!=1.12.0,>=1.10->transformers[torch]) (2.1.0)\n",
            "Requirement already satisfied: python-dateutil>=2.8.1 in /usr/local/lib/python3.10/dist-packages (from pandas->datasets) (2.8.2)\n",
            "Requirement already satisfied: pytz>=2020.1 in /usr/local/lib/python3.10/dist-packages (from pandas->datasets) (2023.3.post1)\n",
            "Requirement already satisfied: six>=1.5 in /usr/local/lib/python3.10/dist-packages (from python-dateutil>=2.8.1->pandas->datasets) (1.16.0)\n",
            "Requirement already satisfied: MarkupSafe>=2.0 in /usr/local/lib/python3.10/dist-packages (from jinja2->torch!=1.12.0,>=1.10->transformers[torch]) (2.1.3)\n",
            "Requirement already satisfied: mpmath>=0.19 in /usr/local/lib/python3.10/dist-packages (from sympy->torch!=1.12.0,>=1.10->transformers[torch]) (1.3.0)\n",
            "Requirement already satisfied: accelerate in /usr/local/lib/python3.10/dist-packages (0.24.1)\n",
            "Requirement already satisfied: numpy>=1.17 in /usr/local/lib/python3.10/dist-packages (from accelerate) (1.23.5)\n",
            "Requirement already satisfied: packaging>=20.0 in /usr/local/lib/python3.10/dist-packages (from accelerate) (23.2)\n",
            "Requirement already satisfied: psutil in /usr/local/lib/python3.10/dist-packages (from accelerate) (5.9.5)\n",
            "Requirement already satisfied: pyyaml in /usr/local/lib/python3.10/dist-packages (from accelerate) (6.0.1)\n",
            "Requirement already satisfied: torch>=1.10.0 in /usr/local/lib/python3.10/dist-packages (from accelerate) (2.1.0+cu118)\n",
            "Requirement already satisfied: huggingface-hub in /usr/local/lib/python3.10/dist-packages (from accelerate) (0.17.3)\n",
            "Requirement already satisfied: filelock in /usr/local/lib/python3.10/dist-packages (from torch>=1.10.0->accelerate) (3.12.4)\n",
            "Requirement already satisfied: typing-extensions in /usr/local/lib/python3.10/dist-packages (from torch>=1.10.0->accelerate) (4.5.0)\n",
            "Requirement already satisfied: sympy in /usr/local/lib/python3.10/dist-packages (from torch>=1.10.0->accelerate) (1.12)\n",
            "Requirement already satisfied: networkx in /usr/local/lib/python3.10/dist-packages (from torch>=1.10.0->accelerate) (3.2)\n",
            "Requirement already satisfied: jinja2 in /usr/local/lib/python3.10/dist-packages (from torch>=1.10.0->accelerate) (3.1.2)\n",
            "Requirement already satisfied: fsspec in /usr/local/lib/python3.10/dist-packages (from torch>=1.10.0->accelerate) (2023.6.0)\n",
            "Requirement already satisfied: triton==2.1.0 in /usr/local/lib/python3.10/dist-packages (from torch>=1.10.0->accelerate) (2.1.0)\n",
            "Requirement already satisfied: requests in /usr/local/lib/python3.10/dist-packages (from huggingface-hub->accelerate) (2.31.0)\n",
            "Requirement already satisfied: tqdm>=4.42.1 in /usr/local/lib/python3.10/dist-packages (from huggingface-hub->accelerate) (4.66.1)\n",
            "Requirement already satisfied: MarkupSafe>=2.0 in /usr/local/lib/python3.10/dist-packages (from jinja2->torch>=1.10.0->accelerate) (2.1.3)\n",
            "Requirement already satisfied: charset-normalizer<4,>=2 in /usr/local/lib/python3.10/dist-packages (from requests->huggingface-hub->accelerate) (3.3.1)\n",
            "Requirement already satisfied: idna<4,>=2.5 in /usr/local/lib/python3.10/dist-packages (from requests->huggingface-hub->accelerate) (3.4)\n",
            "Requirement already satisfied: urllib3<3,>=1.21.1 in /usr/local/lib/python3.10/dist-packages (from requests->huggingface-hub->accelerate) (2.0.7)\n",
            "Requirement already satisfied: certifi>=2017.4.17 in /usr/local/lib/python3.10/dist-packages (from requests->huggingface-hub->accelerate) (2023.7.22)\n",
            "Requirement already satisfied: mpmath>=0.19 in /usr/local/lib/python3.10/dist-packages (from sympy->torch>=1.10.0->accelerate) (1.3.0)\n"
          ]
        }
      ],
      "source": [
        "!pip install transformers[torch] tokenizers datasets\n",
        "!pip install accelerate -U"
      ]
    },
    {
      "cell_type": "code",
      "execution_count": 30,
      "metadata": {
        "id": "Nnhj7J1v8AK_"
      },
      "outputs": [],
      "source": [
        "from transformers import AutoTokenizer, AutoModelForSequenceClassification, AutoConfig, pipeline, DataCollatorWithPadding, TrainingArguments, Trainer\n",
        "from datasets import load_dataset, load_metric\n",
        "import torch\n",
        "import numpy as np"
      ]
    },
    {
      "cell_type": "markdown",
      "metadata": {
        "id": "7JoGm4Gm8GEG"
      },
      "source": [
        "# Questão 1 - Usando um modelo ajustado\n",
        "Nessa questão, vamos explorar como utilizar um modelo BERT que já foi ajustado para uma tarefa específica, rodando-o num input ou conjunto de inputs de interesse.\n",
        "Usaremos o modelo **BERT Go Emotion Base** cujo identificador no HuggingFace é ``bhadresh-savani/bert-base-go-emotion``. Esse é um modelo BERT ajustado para o problema de classificar um texto em inglês segundo as emoções que ele expressa.\n",
        "Complete a célula abaixo de forma a importar e usar o modelo em questão para a classificação do texto armazenado na variável ``text``, usando a estrutura ``pipeline``."
      ]
    },
    {
      "cell_type": "code",
      "execution_count": 31,
      "metadata": {
        "id": "j0XTrskx4QJ_",
        "colab": {
          "base_uri": "https://localhost:8080/",
          "height": 0
        },
        "outputId": "f3923965-2464-4467-f659-90e7f987251a"
      },
      "outputs": [
        {
          "output_type": "stream",
          "name": "stderr",
          "text": [
            "/usr/local/lib/python3.10/dist-packages/transformers/pipelines/text_classification.py:105: UserWarning: `return_all_scores` is now deprecated,  if want a similar functionality use `top_k=None` instead of `return_all_scores=True` or `top_k=1` instead of `return_all_scores=False`.\n",
            "  warnings.warn(\n"
          ]
        },
        {
          "output_type": "execute_result",
          "data": {
            "text/plain": [
              "[[{'label': 'admiration', 'score': 0.052531637251377106},\n",
              "  {'label': 'amusement', 'score': 0.002802635543048382},\n",
              "  {'label': 'anger', 'score': 0.0021217057947069407},\n",
              "  {'label': 'annoyance', 'score': 0.0058088768273591995},\n",
              "  {'label': 'approval', 'score': 0.030131589621305466},\n",
              "  {'label': 'caring', 'score': 0.009696162305772305},\n",
              "  {'label': 'confusion', 'score': 0.0018200755584985018},\n",
              "  {'label': 'curiosity', 'score': 0.003452447708696127},\n",
              "  {'label': 'desire', 'score': 0.002818276174366474},\n",
              "  {'label': 'disappointment', 'score': 0.003781326813623309},\n",
              "  {'label': 'disapproval', 'score': 0.004438407719135284},\n",
              "  {'label': 'disgust', 'score': 0.001151817268691957},\n",
              "  {'label': 'embarrassment', 'score': 0.0007963395910337567},\n",
              "  {'label': 'excitement', 'score': 0.012276898138225079},\n",
              "  {'label': 'fear', 'score': 0.0005728370742872357},\n",
              "  {'label': 'gratitude', 'score': 0.0025751241482794285},\n",
              "  {'label': 'grief', 'score': 0.0004611570038832724},\n",
              "  {'label': 'joy', 'score': 0.024326017126441002},\n",
              "  {'label': 'love', 'score': 0.6213787198066711},\n",
              "  {'label': 'nervousness', 'score': 0.00044165225699543953},\n",
              "  {'label': 'optimism', 'score': 0.00489880982786417},\n",
              "  {'label': 'pride', 'score': 0.0013467071112245321},\n",
              "  {'label': 'realization', 'score': 0.006926458794623613},\n",
              "  {'label': 'relief', 'score': 0.000796936044935137},\n",
              "  {'label': 'remorse', 'score': 0.000463235133793205},\n",
              "  {'label': 'sadness', 'score': 0.0033917617984116077},\n",
              "  {'label': 'surprise', 'score': 0.0021077608689665794},\n",
              "  {'label': 'neutral', 'score': 0.1966845542192459}]]"
            ]
          },
          "metadata": {},
          "execution_count": 31
        }
      ],
      "source": [
        "text=\"Then plainly know my heart's dear love is set on the fair daughter of rich Capulet: as mine on hers, so hers is set on mine;\"\n",
        "\n",
        "# Instancie o tokenizador do modelo\n",
        "tokenizer = AutoTokenizer.from_pretrained(\"bhadresh-savani/bert-base-go-emotion\")\n",
        "\n",
        "# Instancie o modelo\n",
        "model = AutoModelForSequenceClassification.from_pretrained(\"bhadresh-savani/bert-base-go-emotion\")\n",
        "\n",
        "# Instancie o pipeline de uso a partir do modelo e do tokenizador\n",
        "# Obs: instancie de forma a retornar o score previsto para todas as classes e não apenas\n",
        "# a classe mais provável\n",
        "my_pipeline = pipeline(\"text-classification\", model=model, tokenizer=tokenizer, return_all_scores=True)\n",
        "\n",
        "# Aplique o modelo ao texto\n",
        "my_pipeline(text)\n"
      ]
    },
    {
      "cell_type": "markdown",
      "metadata": {
        "id": "xMUAOBV0_LgR"
      },
      "source": [
        "# Questão 2 - Ajustando o BERTimbau para uma tarefa de classificação\n",
        "O [BERTimbau](https://huggingface.co/neuralmind/bert-base-portuguese-cased) é o modelo de atenção pioneiro para o Português. Ele é uma versão do BERT pré-treinado com dados em português e está disponível abertamente no HuggingFace em dois tamanhos. Nesse exercício vamos fazer o ajuste-fino no BERTimbau Base (já pré-treinado) para a tarefa de Inferência em Linguagem Natural. Essa é a tarefa de receber dois textos, uma Premissa e uma Hipótese e classificar qual é a relação lógica entre premissa e hipótese. Usaremos o dataset ASSIN2 que modela esse como um problema de classificação em duas classes: Entailment (Existe acarretamento lógico) e None (Não existe acarretamento lógico).\n",
        "\n",
        "Complete o código a seguir nos locais indicados, de forma a ajustar o BERTimbau para a tarefa citada. Na dúvida, consulte a documentação das referidas classes e o livro-texto do HuggingFace."
      ]
    },
    {
      "cell_type": "code",
      "execution_count": 32,
      "metadata": {
        "id": "bg232mJaAsMJ",
        "colab": {
          "base_uri": "https://localhost:8080/",
          "height": 159
        },
        "outputId": "a2de98c3-c03c-4b97-9ad5-ec022e7717df"
      },
      "outputs": [
        {
          "output_type": "stream",
          "name": "stderr",
          "text": [
            "Some weights of BertForSequenceClassification were not initialized from the model checkpoint at neuralmind/bert-base-portuguese-cased and are newly initialized: ['classifier.bias', 'classifier.weight']\n",
            "You should probably TRAIN this model on a down-stream task to be able to use it for predictions and inference.\n",
            "You're using a BertTokenizerFast tokenizer. Please note that with a fast tokenizer, using the `__call__` method is faster than using a method to encode the text followed by a call to the `pad` method to get a padded encoding.\n"
          ]
        },
        {
          "output_type": "display_data",
          "data": {
            "text/plain": [
              "<IPython.core.display.HTML object>"
            ],
            "text/html": [
              "\n",
              "    <div>\n",
              "      \n",
              "      <progress value='125' max='125' style='width:300px; height:20px; vertical-align: middle;'></progress>\n",
              "      [125/125 00:28, Epoch 1/1]\n",
              "    </div>\n",
              "    <table border=\"1\" class=\"dataframe\">\n",
              "  <thead>\n",
              " <tr style=\"text-align: left;\">\n",
              "      <th>Epoch</th>\n",
              "      <th>Training Loss</th>\n",
              "      <th>Validation Loss</th>\n",
              "      <th>Accuracy</th>\n",
              "    </tr>\n",
              "  </thead>\n",
              "  <tbody>\n",
              "    <tr>\n",
              "      <td>1</td>\n",
              "      <td>No log</td>\n",
              "      <td>0.391251</td>\n",
              "      <td>0.844000</td>\n",
              "    </tr>\n",
              "  </tbody>\n",
              "</table><p>"
            ]
          },
          "metadata": {}
        }
      ],
      "source": [
        "\n",
        "torch.manual_seed(1562517)\n",
        "\n",
        "# CARREGAMENTO E PREPARAÇÃO DO DATASET\n",
        "# Carregue o dataset \"assin2\"\n",
        "dataset = load_dataset(\"assin2\")\n",
        "\n",
        "dataset=dataset.rename_columns({'entailment_judgment':'label'})\n",
        "\n",
        "# CARREGAMENTO DO TOKENIZADOR\n",
        "# Carregue o tokenizador do modelo (use  model_max_length=512):\n",
        "tokenizer = AutoTokenizer.from_pretrained('neuralmind/bert-base-portuguese-cased', model_max_length=512)\n",
        "\n",
        "# TOKENIZAÇÃO:\n",
        "# Crio uma função de tokenização dessa que processe cada dataset dessa forma permite que usemos a função .map() para aplicá-la no próprio dataset.\n",
        "# O resultado de uma aplicação com map é um objeto do tipo dataset então continuaremos dispondo das comodidades dessa estrutura de dados,\n",
        "# o que não aconteceríamos se aplicássemos o tokenizador diretamente ao dataset, caso no qual o resultado retornado seria um dicionário comum.\n",
        "def tokenize_function(examples):\n",
        "  return tokenizer([z for z in zip(examples[\"premise\"], examples[\"hypothesis\"])], truncation=True)\n",
        "\n",
        "tokenized_datasets = dataset.map(tokenize_function, batched=True)\n",
        "\n",
        "# \"COLETOR\" DE DADOS:\n",
        "# Instancie um DataCollatorWithPadding a partir do tokenizador importado\n",
        "data_collator = DataCollatorWithPadding(tokenizer=tokenizer)\n",
        "\n",
        "# PARTICIONAMENTO E AMOSTRAGEM DO DATASET:\n",
        "train_dataset = tokenized_datasets[\"train\"].shuffle(seed=42).select(range(1000))\n",
        "eval_dataset = tokenized_datasets[\"validation\"].shuffle(seed=42)\n",
        "test_set = tokenized_datasets[\"test\"].shuffle(seed=42)\n",
        "\n",
        "# CONFIGURAÇÕES DO MODELO:\n",
        "label2id = {'NONE': 0, 'ENTAILMENT':1}\n",
        "id2label = {0: 'NONE', 1: 'ENTAILMENT'}\n",
        "config = AutoConfig.from_pretrained(\"neuralmind/bert-base-portuguese-cased\", label2id=label2id, id2label=id2label, num_labels=2, seed=1)\n",
        "\n",
        "# CARREGAMENTO DO MODELO:\n",
        "# Carregue o modelo BERTimbau, usando as configurações definidas na linha anterior\n",
        "model = AutoModelForSequenceClassification.from_pretrained(\"neuralmind/bert-base-portuguese-cased\", config=config)\n",
        "\n",
        "# ARGUMENTOS DE TREINAMENTO:\n",
        "# Usando a classe TrainingArguments, crie um objeto que estabeleça os seguintes argumentos de treinamento:\n",
        "# 1 época de treinamento\n",
        "# 1 Validação a cada época\n",
        "# 1 salvamento do modelo intermediário por época\n",
        "training_args = TrainingArguments(num_train_epochs=1, evaluation_strategy=\"epoch\", save_strategy=\"epoch\", output_dir='.')\n",
        "\n",
        "\n",
        "# MÉTRICA DE AVALIAÇÃO:\n",
        "metric = load_metric(\"accuracy\")\n",
        "\n",
        "def compute_metrics(eval_pred):\n",
        "    logits, labels = eval_pred\n",
        "    predictions = np.argmax(logits, axis=-1)\n",
        "    return metric.compute(predictions=predictions, references=labels)\n",
        "\n",
        "# TREINADOR (Abstrai o loop de treinamento):\n",
        "# Crie um objeto Trainer para treinar o modelo carregado, usando os argumentos\n",
        "# de treinamento estabelecidos, os conjuntos de treinamento e validação produzidos\n",
        "# a função compute_metrics para computar a métrica e o coletor de dados previamente instanciado\n",
        "trainer = Trainer(model=model,\n",
        "                  args=training_args,\n",
        "                  data_collator=data_collator,\n",
        "                  train_dataset=train_dataset,\n",
        "                  eval_dataset=eval_dataset,\n",
        "                  compute_metrics=compute_metrics)\n",
        "\n",
        "# TREINAMENTO E SALVAMENTO\n",
        "trained=trainer.train()\n",
        "trainer.save_model(\"Bertinho\")"
      ]
    },
    {
      "cell_type": "markdown",
      "source": [],
      "metadata": {
        "id": "rFf4qLLUcMvZ"
      }
    },
    {
      "cell_type": "markdown",
      "metadata": {
        "id": "vaelLh947VuM"
      },
      "source": [
        "# Questão 3\n",
        "Ao carregar o modelo, na questão anterior, você deve ter recebido um aviso que começa com *Some weights of BertForSequenceClassification were not initialized...*\n",
        "Explique porque carregar o modelo gera esse aviso e porque ele é esperado.\n",
        "\n"
      ]
    },
    {
      "cell_type": "markdown",
      "metadata": {
        "id": "kWPBI6wN7-0R"
      },
      "source": [
        "**Sua resposta aqui**\n",
        "\n",
        "O erro é retornado porque foram adicionadas configurações para uma tarefa de classificação que não estava presente no modelo pré-treinado. Assim é necessário fazer o treinamento para fine-tunning, de modo que o modelo passe a suportar a nova tarefa de classificação (classe 0=\"NONE\" e 1=\"ENTAILMENT\")."
      ]
    }
  ],
  "metadata": {
    "accelerator": "GPU",
    "colab": {
      "gpuType": "T4",
      "provenance": []
    },
    "kernelspec": {
      "display_name": "Python 3",
      "name": "python3"
    },
    "language_info": {
      "name": "python"
    }
  },
  "nbformat": 4,
  "nbformat_minor": 0
}